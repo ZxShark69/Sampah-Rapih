{
 "cells": [
  {
   "cell_type": "code",
   "execution_count": null,
   "metadata": {},
   "outputs": [],
   "source": [
    "import numpy as np\n",
    "import pandas as pd\n",
    "\n",
    "#mengambil data kecamatan dari wikipedia\n",
    "data_kecamatan = pd.read_html('https://id.wikipedia.org/wiki/Daftar_kecamatan_dan_kelurahan_di_Kota_Bandung')\n",
    "data_kecamatan[0]\n",
    "\n",
    "kecamatannya = data_kecamatan[0]\n",
    "ndf = kecamatannya['Kecamatan']\n",
    "kecamatan_fix = ndf.iloc[:-1]\n",
    "\n",
    "sampah_sampah = [1,2] #tingkatan dari jenis sampah\n",
    "\n",
    "\n",
    "data = {\n",
    "    'id': pd.Series([i for i in range(0,2891)]),\n",
    "    'tanggal' : pd.date_range('2016-01-01', '2023-11-30'),\n",
    "    'kecamatan' : pd.Series(),\n",
    "    'jenis_sampah' : pd.Series(),\n",
    "    'jumlah_sampah' : pd.Series(),\n",
    "    'satuan' : pd.Series()\n",
    "}\n",
    "\n",
    "df = pd.DataFrame(data)\n",
    "\n",
    "df['kecamatan'] = df['kecamatan'].apply(lambda x: kecamatan_fix[np.random.choice(len(kecamatan_fix))])\n",
    "\n",
    "df['jenis_sampah'] = df['jenis_sampah'].apply(lambda x : sampah_sampah[np.random.choice(len(sampah_sampah))])\n",
    "\n",
    "tonase = [np.random.randint(1, 10) for i in range(len(df))]\n",
    "\n",
    "df['jumlah_sampah'] = tonase\n",
    "\n",
    "df['satuan'] = df['satuan'].fillna('TON')\n",
    "\n",
    "df"
   ]
  }
 ],
 "metadata": {
  "language_info": {
   "name": "python"
  }
 },
 "nbformat": 4,
 "nbformat_minor": 2
}
