{
 "cells": [
  {
   "cell_type": "code",
   "execution_count": 12,
   "metadata": {},
   "outputs": [
    {
     "name": "stdout",
     "output_type": "stream",
     "text": [
      "Kecamatan dengan peningkatan >= 500 kg per bulan:\n",
      "['Andir' 'Antapani' 'Arcamanik' 'Astana Anyar' 'Babakan Ciparay'\n",
      " 'Bandung Kidul' 'Bandung Kulon' 'Bandung Wetan' 'Batununggal'\n",
      " 'Bojongloa Kaler' 'Bojongloa Kidul' 'Buahbatu' 'Cibeunying Kaler'\n",
      " 'Cibeunying Kidul' 'Cibiru' 'Cicendo' 'Cidadap' 'Cinambo' 'Coblong'\n",
      " 'Gedebage' 'Kiaracondong' 'Lengkong' 'Mandalajati' 'Panyileukan'\n",
      " 'Rancasari' 'Regol' 'Sukajadi' 'Sukasari' 'Sumur Bandung' 'Ujungberung']\n"
     ]
    }
   ],
   "source": []
  }
 ],
 "metadata": {
  "kernelspec": {
   "display_name": "Python 3",
   "language": "python",
   "name": "python3"
  },
  "language_info": {
   "codemirror_mode": {
    "name": "ipython",
    "version": 3
   },
   "file_extension": ".py",
   "mimetype": "text/x-python",
   "name": "python",
   "nbconvert_exporter": "python",
   "pygments_lexer": "ipython3",
   "version": "3.12.0"
  }
 },
 "nbformat": 4,
 "nbformat_minor": 2
}
