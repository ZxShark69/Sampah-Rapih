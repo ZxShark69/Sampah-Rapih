import matplotlib.pyplot as plt
import pandas as pd
import numpy as np

# Data
labels = ['Sisa makanan dan daun', 'Kayu dan Ranting', 'Kertas', 'Plastik','Logam','Kain','Karet dan Kulit','Limbah B3','Lainya']
sizes = [44.51,3.98,13.12,18.68,0.90,4.75,2.38,7.57,4.11]
colors = ['red','cyan','orange','brown','green','blue']

# Plotting the pie chart
plt.pie(sizes, labels=labels, autopct='%1.1f%%', startangle=90, colors=colors)

# Aspect ratio ensures that pie is drawn as a circle.
plt.axis('equal')

# Menampilkan pie chart
plt.show()
